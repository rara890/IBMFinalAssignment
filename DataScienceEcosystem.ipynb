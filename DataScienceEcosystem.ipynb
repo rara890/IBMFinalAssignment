{
 "cells": [
  {
   "cell_type": "markdown",
   "id": "2f2aa08e-ee2d-4833-a033-131332b398f7",
   "metadata": {},
   "source": [
    "# Data Science Tools and Ecosystem"
   ]
  },
  {
   "cell_type": "markdown",
   "id": "8dcb7662-e08a-4ce8-8178-6b5f36f72190",
   "metadata": {},
   "source": [
    "In this notebook, Data Science Tools and Ecosystem are summarized"
   ]
  },
  {
   "cell_type": "markdown",
   "id": "1e09a1c0-fcd1-4a78-b109-eb9ad5fbc06f",
   "metadata": {},
   "source": [
    "**Objectives**\n",
    "\n",
    "- Create a Jupyter Notebook with markdown and code cells\r",
    "- \n",
    "List examples of languages, libraries and tools used in DataScience\n",
    "- Share your Jupyter Notebook publicly on Github\n",
    "- Evaluate notebooks submitted by your peers using the provided rubric\n",
    "- Demonstrate proficiency in Data Science toolkit knowledgeedge"
   ]
  },
  {
   "cell_type": "markdown",
   "id": "3fbce08e-8d8a-49ee-8602-d031128451fb",
   "metadata": {},
   "source": [
    "Some of the popular languages that Data Scientists use are:\n",
    "1. Python\n",
    "2. R\n",
    "3. SQL\n",
    "4. Jave\n",
    "5. Scala\n",
    "6. Julia"
   ]
  },
  {
   "cell_type": "markdown",
   "id": "19604a9b-ea9e-4463-83b1-37babf0cf38a",
   "metadata": {},
   "source": [
    "Some of the commonly used libraries used by Data Scientists include:\n",
    "1. NumPy\n",
    "2. matplotlib\n",
    "3. scikit-learn\n",
    "4. TensorFlow/PyTorch\n",
    "5. SciPy\n",
    "6. NLTK"
   ]
  },
  {
   "cell_type": "markdown",
   "id": "92288bd2-de27-4e44-a543-2eaee6619ec7",
   "metadata": {},
   "source": [
    "|Data Science Tools|\n",
    "|-------------------|\n",
    "|Jupyter Notebook/JupyterLab|\n",
    "|RStudio|\n",
    "|Spyder|"
   ]
  },
  {
   "cell_type": "markdown",
   "id": "110ab5da-4223-4bbf-a244-4b028f7a9c6b",
   "metadata": {},
   "source": [
    "### Below are a few examples of evaluating arithmetic expressions in Python"
   ]
  },
  {
   "cell_type": "code",
   "execution_count": 1,
   "id": "0c152813-44ca-4b83-8f32-20afa69cb3f0",
   "metadata": {},
   "outputs": [
    {
     "data": {
      "text/plain": [
       "17"
      ]
     },
     "execution_count": 1,
     "metadata": {},
     "output_type": "execute_result"
    }
   ],
   "source": [
    "(3*4)+5\n",
    "# This is a simple arithmetic expression to multiply then add integers."
   ]
  },
  {
   "cell_type": "code",
   "execution_count": 2,
   "id": "c5af1147-fa6c-4344-8b30-2810b1a7a9aa",
   "metadata": {},
   "outputs": [
    {
     "name": "stdout",
     "output_type": "stream",
     "text": [
      "200 minutes is equal to 3.3333333333333335 hours\n"
     ]
    }
   ],
   "source": [
    "minutes = 200\n",
    "hours = minutes / 60\n",
    "print(f\"{minutes} minutes is equal to {hours} hours\")\n",
    "# This will convert 200 minutes to hours by dividing by 60"
   ]
  },
  {
   "cell_type": "markdown",
   "id": "7b8f272f-7965-48f5-bd63-7fdec796640c",
   "metadata": {},
   "source": [
    "## Author\n",
    "Zahra M"
   ]
  },
  {
   "cell_type": "code",
   "execution_count": null,
   "id": "e4d4b5db-2ca4-4e7c-ba32-9f834ecd667a",
   "metadata": {},
   "outputs": [],
   "source": []
  }
 ],
 "metadata": {
  "kernelspec": {
   "display_name": "Python 3 (ipykernel)",
   "language": "python",
   "name": "python3"
  },
  "language_info": {
   "codemirror_mode": {
    "name": "ipython",
    "version": 3
   },
   "file_extension": ".py",
   "mimetype": "text/x-python",
   "name": "python",
   "nbconvert_exporter": "python",
   "pygments_lexer": "ipython3",
   "version": "3.11.9"
  }
 },
 "nbformat": 4,
 "nbformat_minor": 5
}
